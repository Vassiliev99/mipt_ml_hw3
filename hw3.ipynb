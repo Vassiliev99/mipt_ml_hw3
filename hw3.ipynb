{
 "cells": [
  {
   "cell_type": "code",
   "execution_count": 1,
   "metadata": {
    "collapsed": true,
    "pycharm": {
     "name": "#%%\n"
    }
   },
   "outputs": [],
   "source": [
    "import pandas as pd\n",
    "import numpy as np\n",
    "import matplotlib.pyplot as plt\n",
    "from sklearn.metrics import mean_squared_log_error, plot_roc_curve, roc_auc_score\n",
    "from sklearn.ensemble import GradientBoostingClassifier\n",
    "from sklearn.model_selection import KFold\n",
    "from sklearn.model_selection import GridSearchCV, RandomizedSearchCV\n",
    "from sklearn.ensemble import StackingClassifier\n",
    "from sklearn.linear_model import LogisticRegression\n",
    "from sklearn.ensemble import RandomForestClassifier"
   ]
  },
  {
   "cell_type": "code",
   "execution_count": 2,
   "outputs": [],
   "source": [
    "\n",
    "def my_cross_validation(estimator, X, y, k):\n",
    "    kf = KFold(n_splits=k, shuffle = True, random_state=0)\n",
    "    rocaucs = []\n",
    "    for train_index, test_index in kf.split(X):\n",
    "        X_train, X_test = X.iloc[train_index], X.iloc[test_index]\n",
    "        y_train, y_test = y.iloc[train_index], y.iloc[test_index]\n",
    "\n",
    "        estimator.fit(X_train, y_train)\n",
    "        y_pred = estimator.predict_proba(X_test)[:,1]\n",
    "        rocauc = roc_auc_score(y_test, y_pred)\n",
    "        rocaucs.append(rocauc)\n",
    "        print(rocauc)\n",
    "    return np.mean(rocaucs), np.std(rocaucs)\n",
    "\n",
    "def normalize(features):\n",
    "    for f in features:\n",
    "        if abs(train[f].max()) > abs(train[f].min()):\n",
    "            train[f] = (train[f] - train[f].mean()) / train[f].max()\n",
    "            test[f] = (test[f] - test[f].mean()) / test[f].max()\n",
    "        else:\n",
    "            train[f] = (train[f] - train[f].mean()) / train[f].min()\n",
    "            test[f] = (test[f] - test[f].mean()) / test[f].min()\n"
   ],
   "metadata": {
    "collapsed": false,
    "pycharm": {
     "name": "#%%\n"
    }
   }
  },
  {
   "cell_type": "code",
   "execution_count": 3,
   "outputs": [
    {
     "data": {
      "text/plain": "   SK_ID_CURR  TARGET NAME_CONTRACT_TYPE CODE_GENDER FLAG_OWN_CAR  \\\n0      100002       1         Cash loans           M            N   \n1      100003       0         Cash loans           F            N   \n2      100004       0    Revolving loans           M            Y   \n3      100006       0         Cash loans           F            N   \n4      100007       0         Cash loans           M            N   \n\n  FLAG_OWN_REALTY  CNT_CHILDREN  AMT_INCOME_TOTAL  AMT_CREDIT  AMT_ANNUITY  \\\n0               Y             0          202500.0    406597.5      24700.5   \n1               N             0          270000.0   1293502.5      35698.5   \n2               Y             0           67500.0    135000.0       6750.0   \n3               Y             0          135000.0    312682.5      29686.5   \n4               Y             0          121500.0    513000.0      21865.5   \n\n   ...  FLAG_DOCUMENT_18 FLAG_DOCUMENT_19 FLAG_DOCUMENT_20 FLAG_DOCUMENT_21  \\\n0  ...                 0                0                0                0   \n1  ...                 0                0                0                0   \n2  ...                 0                0                0                0   \n3  ...                 0                0                0                0   \n4  ...                 0                0                0                0   \n\n  AMT_REQ_CREDIT_BUREAU_HOUR AMT_REQ_CREDIT_BUREAU_DAY  \\\n0                        0.0                       0.0   \n1                        0.0                       0.0   \n2                        0.0                       0.0   \n3                        NaN                       NaN   \n4                        0.0                       0.0   \n\n   AMT_REQ_CREDIT_BUREAU_WEEK  AMT_REQ_CREDIT_BUREAU_MON  \\\n0                         0.0                        0.0   \n1                         0.0                        0.0   \n2                         0.0                        0.0   \n3                         NaN                        NaN   \n4                         0.0                        0.0   \n\n   AMT_REQ_CREDIT_BUREAU_QRT  AMT_REQ_CREDIT_BUREAU_YEAR  \n0                        0.0                         1.0  \n1                        0.0                         0.0  \n2                        0.0                         0.0  \n3                        NaN                         NaN  \n4                        0.0                         0.0  \n\n[5 rows x 122 columns]",
      "text/html": "<div>\n<style scoped>\n    .dataframe tbody tr th:only-of-type {\n        vertical-align: middle;\n    }\n\n    .dataframe tbody tr th {\n        vertical-align: top;\n    }\n\n    .dataframe thead th {\n        text-align: right;\n    }\n</style>\n<table border=\"1\" class=\"dataframe\">\n  <thead>\n    <tr style=\"text-align: right;\">\n      <th></th>\n      <th>SK_ID_CURR</th>\n      <th>TARGET</th>\n      <th>NAME_CONTRACT_TYPE</th>\n      <th>CODE_GENDER</th>\n      <th>FLAG_OWN_CAR</th>\n      <th>FLAG_OWN_REALTY</th>\n      <th>CNT_CHILDREN</th>\n      <th>AMT_INCOME_TOTAL</th>\n      <th>AMT_CREDIT</th>\n      <th>AMT_ANNUITY</th>\n      <th>...</th>\n      <th>FLAG_DOCUMENT_18</th>\n      <th>FLAG_DOCUMENT_19</th>\n      <th>FLAG_DOCUMENT_20</th>\n      <th>FLAG_DOCUMENT_21</th>\n      <th>AMT_REQ_CREDIT_BUREAU_HOUR</th>\n      <th>AMT_REQ_CREDIT_BUREAU_DAY</th>\n      <th>AMT_REQ_CREDIT_BUREAU_WEEK</th>\n      <th>AMT_REQ_CREDIT_BUREAU_MON</th>\n      <th>AMT_REQ_CREDIT_BUREAU_QRT</th>\n      <th>AMT_REQ_CREDIT_BUREAU_YEAR</th>\n    </tr>\n  </thead>\n  <tbody>\n    <tr>\n      <th>0</th>\n      <td>100002</td>\n      <td>1</td>\n      <td>Cash loans</td>\n      <td>M</td>\n      <td>N</td>\n      <td>Y</td>\n      <td>0</td>\n      <td>202500.0</td>\n      <td>406597.5</td>\n      <td>24700.5</td>\n      <td>...</td>\n      <td>0</td>\n      <td>0</td>\n      <td>0</td>\n      <td>0</td>\n      <td>0.0</td>\n      <td>0.0</td>\n      <td>0.0</td>\n      <td>0.0</td>\n      <td>0.0</td>\n      <td>1.0</td>\n    </tr>\n    <tr>\n      <th>1</th>\n      <td>100003</td>\n      <td>0</td>\n      <td>Cash loans</td>\n      <td>F</td>\n      <td>N</td>\n      <td>N</td>\n      <td>0</td>\n      <td>270000.0</td>\n      <td>1293502.5</td>\n      <td>35698.5</td>\n      <td>...</td>\n      <td>0</td>\n      <td>0</td>\n      <td>0</td>\n      <td>0</td>\n      <td>0.0</td>\n      <td>0.0</td>\n      <td>0.0</td>\n      <td>0.0</td>\n      <td>0.0</td>\n      <td>0.0</td>\n    </tr>\n    <tr>\n      <th>2</th>\n      <td>100004</td>\n      <td>0</td>\n      <td>Revolving loans</td>\n      <td>M</td>\n      <td>Y</td>\n      <td>Y</td>\n      <td>0</td>\n      <td>67500.0</td>\n      <td>135000.0</td>\n      <td>6750.0</td>\n      <td>...</td>\n      <td>0</td>\n      <td>0</td>\n      <td>0</td>\n      <td>0</td>\n      <td>0.0</td>\n      <td>0.0</td>\n      <td>0.0</td>\n      <td>0.0</td>\n      <td>0.0</td>\n      <td>0.0</td>\n    </tr>\n    <tr>\n      <th>3</th>\n      <td>100006</td>\n      <td>0</td>\n      <td>Cash loans</td>\n      <td>F</td>\n      <td>N</td>\n      <td>Y</td>\n      <td>0</td>\n      <td>135000.0</td>\n      <td>312682.5</td>\n      <td>29686.5</td>\n      <td>...</td>\n      <td>0</td>\n      <td>0</td>\n      <td>0</td>\n      <td>0</td>\n      <td>NaN</td>\n      <td>NaN</td>\n      <td>NaN</td>\n      <td>NaN</td>\n      <td>NaN</td>\n      <td>NaN</td>\n    </tr>\n    <tr>\n      <th>4</th>\n      <td>100007</td>\n      <td>0</td>\n      <td>Cash loans</td>\n      <td>M</td>\n      <td>N</td>\n      <td>Y</td>\n      <td>0</td>\n      <td>121500.0</td>\n      <td>513000.0</td>\n      <td>21865.5</td>\n      <td>...</td>\n      <td>0</td>\n      <td>0</td>\n      <td>0</td>\n      <td>0</td>\n      <td>0.0</td>\n      <td>0.0</td>\n      <td>0.0</td>\n      <td>0.0</td>\n      <td>0.0</td>\n      <td>0.0</td>\n    </tr>\n  </tbody>\n</table>\n<p>5 rows × 122 columns</p>\n</div>"
     },
     "execution_count": 3,
     "metadata": {},
     "output_type": "execute_result"
    }
   ],
   "source": [
    "train = pd.read_csv('application_train.csv')\n",
    "test  = pd.read_csv('application_test.csv')\n",
    "submission = pd.read_csv('sample_submission.csv')\n",
    "train.head()"
   ],
   "metadata": {
    "collapsed": false,
    "pycharm": {
     "name": "#%%\n"
    }
   }
  },
  {
   "cell_type": "code",
   "execution_count": 4,
   "outputs": [],
   "source": [
    "features = [\"DAYS_BIRTH\",\n",
    "            \"REGION_RATING_CLIENT_W_CITY\",\n",
    "            \"DAYS_LAST_PHONE_CHANGE\",\n",
    "            \"EXT_SOURCE_1\",\n",
    "            \"EXT_SOURCE_2\",\n",
    "            \"EXT_SOURCE_3\"]\n",
    "for f in features:\n",
    "    train[f] = train[f].fillna(train[f].median())\n",
    "    test[f] = test[f].fillna(test[f].median())\n",
    "normalize(features)\n",
    "\n",
    "replace_dict = {\n",
    "    \"CODE_GENDER\": {\"M\": 0, \"F\": 1, \"XNA\": np.nan},\n",
    "    \"NAME_CONTRACT_TYPE\": {\"Cash loans\": 0, \"Revolving loans\": 1},\n",
    "    \"EMERGENCYSTATE_MODE\": {\"No\": 0, \"Yes\": 0}\n",
    "}\n",
    "\n",
    "for k in replace_dict.keys():\n",
    "    train[k] = train[k].replace(replace_dict[k])\n",
    "    test[k] = test[k].replace(replace_dict[k])\n",
    "\n",
    "for k in replace_dict.keys():\n",
    "    train[k] = train[k].fillna(train[k].median())\n",
    "    test[k] = test[k].fillna(test[k].median())\n",
    "\n",
    "features += replace_dict.keys()"
   ],
   "metadata": {
    "collapsed": false,
    "pycharm": {
     "name": "#%%\n"
    }
   }
  },
  {
   "cell_type": "markdown",
   "source": [
    "# Task 0\n",
    "\n",
    "params\n",
    "* n_estimators\n",
    "* max_depth\n",
    "* min_samples_leaf\n",
    "* loss"
   ],
   "metadata": {
    "collapsed": false,
    "pycharm": {
     "name": "#%% md\n"
    }
   }
  },
  {
   "cell_type": "code",
   "execution_count": 5,
   "outputs": [
    {
     "name": "stdout",
     "output_type": "stream",
     "text": [
      "1\n",
      "0.6843626112909345\n",
      "0.6811711679833282\n",
      "0.6874816614328961\n",
      "2\n",
      "0.6894633915069381\n",
      "0.690691017073026\n",
      "0.6958887625076873\n",
      "3\n",
      "0.7008789806923615\n",
      "0.6960769886558424\n",
      "0.6964291637919914\n",
      "5\n",
      "0.7074591940060523\n",
      "0.6993731572801651\n",
      "0.7005794158981591\n",
      "10\n",
      "0.714205554002634\n",
      "0.7102390165650918\n",
      "0.7135012415749361\n",
      "20\n",
      "0.7240135417144934\n",
      "0.7202347741752416\n",
      "0.7250460781382697\n",
      "50\n",
      "0.7312148547091357\n",
      "0.7293298640803928\n",
      "0.7337098511449793\n",
      "100\n",
      "0.7341691819326848\n"
     ]
    },
    {
     "ename": "KeyboardInterrupt",
     "evalue": "",
     "output_type": "error",
     "traceback": [
      "\u001B[1;31m---------------------------------------------------------------------------\u001B[0m",
      "\u001B[1;31mKeyboardInterrupt\u001B[0m                         Traceback (most recent call last)",
      "\u001B[1;32m<ipython-input-5-774590399030>\u001B[0m in \u001B[0;36m<module>\u001B[1;34m\u001B[0m\n\u001B[0;32m      4\u001B[0m     \u001B[0mprint\u001B[0m\u001B[1;33m(\u001B[0m\u001B[0mn\u001B[0m\u001B[1;33m)\u001B[0m\u001B[1;33m\u001B[0m\u001B[1;33m\u001B[0m\u001B[0m\n\u001B[0;32m      5\u001B[0m     \u001B[0mgbr\u001B[0m \u001B[1;33m=\u001B[0m \u001B[0mGradientBoostingClassifier\u001B[0m\u001B[1;33m(\u001B[0m\u001B[0mrandom_state\u001B[0m\u001B[1;33m=\u001B[0m\u001B[1;36m0\u001B[0m\u001B[1;33m,\u001B[0m \u001B[0mn_estimators\u001B[0m\u001B[1;33m=\u001B[0m\u001B[0mn\u001B[0m\u001B[1;33m)\u001B[0m\u001B[1;33m\u001B[0m\u001B[1;33m\u001B[0m\u001B[0m\n\u001B[1;32m----> 6\u001B[1;33m     \u001B[0mres\u001B[0m \u001B[1;33m=\u001B[0m \u001B[0mmy_cross_validation\u001B[0m\u001B[1;33m(\u001B[0m\u001B[0mgbr\u001B[0m\u001B[1;33m,\u001B[0m \u001B[0mtrain\u001B[0m\u001B[1;33m[\u001B[0m\u001B[0mfeatures\u001B[0m\u001B[1;33m]\u001B[0m\u001B[1;33m,\u001B[0m \u001B[0mtrain\u001B[0m\u001B[1;33m[\u001B[0m\u001B[1;34m\"TARGET\"\u001B[0m\u001B[1;33m]\u001B[0m\u001B[1;33m,\u001B[0m \u001B[1;36m3\u001B[0m\u001B[1;33m)\u001B[0m\u001B[1;33m\u001B[0m\u001B[1;33m\u001B[0m\u001B[0m\n\u001B[0m\u001B[0;32m      7\u001B[0m     \u001B[0mn_estimators_res\u001B[0m\u001B[1;33m.\u001B[0m\u001B[0mappend\u001B[0m\u001B[1;33m(\u001B[0m\u001B[0mres\u001B[0m\u001B[1;33m[\u001B[0m\u001B[1;36m0\u001B[0m\u001B[1;33m]\u001B[0m\u001B[1;33m)\u001B[0m\u001B[1;33m\u001B[0m\u001B[1;33m\u001B[0m\u001B[0m\n\u001B[0;32m      8\u001B[0m \u001B[1;33m\u001B[0m\u001B[0m\n",
      "\u001B[1;32m<ipython-input-2-ed6dabcf7a82>\u001B[0m in \u001B[0;36mmy_cross_validation\u001B[1;34m(estimator, X, y, k)\u001B[0m\n\u001B[0;32m      6\u001B[0m         \u001B[0my_train\u001B[0m\u001B[1;33m,\u001B[0m \u001B[0my_test\u001B[0m \u001B[1;33m=\u001B[0m \u001B[0my\u001B[0m\u001B[1;33m.\u001B[0m\u001B[0miloc\u001B[0m\u001B[1;33m[\u001B[0m\u001B[0mtrain_index\u001B[0m\u001B[1;33m]\u001B[0m\u001B[1;33m,\u001B[0m \u001B[0my\u001B[0m\u001B[1;33m.\u001B[0m\u001B[0miloc\u001B[0m\u001B[1;33m[\u001B[0m\u001B[0mtest_index\u001B[0m\u001B[1;33m]\u001B[0m\u001B[1;33m\u001B[0m\u001B[1;33m\u001B[0m\u001B[0m\n\u001B[0;32m      7\u001B[0m \u001B[1;33m\u001B[0m\u001B[0m\n\u001B[1;32m----> 8\u001B[1;33m         \u001B[0mestimator\u001B[0m\u001B[1;33m.\u001B[0m\u001B[0mfit\u001B[0m\u001B[1;33m(\u001B[0m\u001B[0mX_train\u001B[0m\u001B[1;33m,\u001B[0m \u001B[0my_train\u001B[0m\u001B[1;33m)\u001B[0m\u001B[1;33m\u001B[0m\u001B[1;33m\u001B[0m\u001B[0m\n\u001B[0m\u001B[0;32m      9\u001B[0m         \u001B[0my_pred\u001B[0m \u001B[1;33m=\u001B[0m \u001B[0mestimator\u001B[0m\u001B[1;33m.\u001B[0m\u001B[0mpredict_proba\u001B[0m\u001B[1;33m(\u001B[0m\u001B[0mX_test\u001B[0m\u001B[1;33m)\u001B[0m\u001B[1;33m[\u001B[0m\u001B[1;33m:\u001B[0m\u001B[1;33m,\u001B[0m\u001B[1;36m1\u001B[0m\u001B[1;33m]\u001B[0m\u001B[1;33m\u001B[0m\u001B[1;33m\u001B[0m\u001B[0m\n\u001B[0;32m     10\u001B[0m         \u001B[0mrocauc\u001B[0m \u001B[1;33m=\u001B[0m \u001B[0mroc_auc_score\u001B[0m\u001B[1;33m(\u001B[0m\u001B[0my_test\u001B[0m\u001B[1;33m,\u001B[0m \u001B[0my_pred\u001B[0m\u001B[1;33m)\u001B[0m\u001B[1;33m\u001B[0m\u001B[1;33m\u001B[0m\u001B[0m\n",
      "\u001B[1;32m~\\AppData\\Roaming\\Python\\Python38\\site-packages\\sklearn\\ensemble\\_gb.py\u001B[0m in \u001B[0;36mfit\u001B[1;34m(self, X, y, sample_weight, monitor)\u001B[0m\n\u001B[0;32m    584\u001B[0m \u001B[1;33m\u001B[0m\u001B[0m\n\u001B[0;32m    585\u001B[0m         \u001B[1;31m# fit the boosting stages\u001B[0m\u001B[1;33m\u001B[0m\u001B[1;33m\u001B[0m\u001B[1;33m\u001B[0m\u001B[0m\n\u001B[1;32m--> 586\u001B[1;33m         n_stages = self._fit_stages(\n\u001B[0m\u001B[0;32m    587\u001B[0m             \u001B[0mX\u001B[0m\u001B[1;33m,\u001B[0m\u001B[1;33m\u001B[0m\u001B[1;33m\u001B[0m\u001B[0m\n\u001B[0;32m    588\u001B[0m             \u001B[0my\u001B[0m\u001B[1;33m,\u001B[0m\u001B[1;33m\u001B[0m\u001B[1;33m\u001B[0m\u001B[0m\n",
      "\u001B[1;32m~\\AppData\\Roaming\\Python\\Python38\\site-packages\\sklearn\\ensemble\\_gb.py\u001B[0m in \u001B[0;36m_fit_stages\u001B[1;34m(self, X, y, raw_predictions, sample_weight, random_state, X_val, y_val, sample_weight_val, begin_at_stage, monitor)\u001B[0m\n\u001B[0;32m    661\u001B[0m \u001B[1;33m\u001B[0m\u001B[0m\n\u001B[0;32m    662\u001B[0m             \u001B[1;31m# fit next stage of trees\u001B[0m\u001B[1;33m\u001B[0m\u001B[1;33m\u001B[0m\u001B[1;33m\u001B[0m\u001B[0m\n\u001B[1;32m--> 663\u001B[1;33m             raw_predictions = self._fit_stage(\n\u001B[0m\u001B[0;32m    664\u001B[0m                 \u001B[0mi\u001B[0m\u001B[1;33m,\u001B[0m\u001B[1;33m\u001B[0m\u001B[1;33m\u001B[0m\u001B[0m\n\u001B[0;32m    665\u001B[0m                 \u001B[0mX\u001B[0m\u001B[1;33m,\u001B[0m\u001B[1;33m\u001B[0m\u001B[1;33m\u001B[0m\u001B[0m\n",
      "\u001B[1;32m~\\AppData\\Roaming\\Python\\Python38\\site-packages\\sklearn\\ensemble\\_gb.py\u001B[0m in \u001B[0;36m_fit_stage\u001B[1;34m(self, i, X, y, raw_predictions, sample_weight, sample_mask, random_state, X_csc, X_csr)\u001B[0m\n\u001B[0;32m    247\u001B[0m \u001B[1;33m\u001B[0m\u001B[0m\n\u001B[0;32m    248\u001B[0m             \u001B[1;31m# update tree leaves\u001B[0m\u001B[1;33m\u001B[0m\u001B[1;33m\u001B[0m\u001B[1;33m\u001B[0m\u001B[0m\n\u001B[1;32m--> 249\u001B[1;33m             loss.update_terminal_regions(\n\u001B[0m\u001B[0;32m    250\u001B[0m                 \u001B[0mtree\u001B[0m\u001B[1;33m.\u001B[0m\u001B[0mtree_\u001B[0m\u001B[1;33m,\u001B[0m\u001B[1;33m\u001B[0m\u001B[1;33m\u001B[0m\u001B[0m\n\u001B[0;32m    251\u001B[0m                 \u001B[0mX\u001B[0m\u001B[1;33m,\u001B[0m\u001B[1;33m\u001B[0m\u001B[1;33m\u001B[0m\u001B[0m\n",
      "\u001B[1;32m~\\AppData\\Roaming\\Python\\Python38\\site-packages\\sklearn\\ensemble\\_gb_losses.py\u001B[0m in \u001B[0;36mupdate_terminal_regions\u001B[1;34m(self, tree, X, y, residual, raw_predictions, sample_weight, sample_mask, learning_rate, k)\u001B[0m\n\u001B[0;32m    131\u001B[0m \u001B[1;33m\u001B[0m\u001B[0m\n\u001B[0;32m    132\u001B[0m         \u001B[1;31m# update predictions (both in-bag and out-of-bag)\u001B[0m\u001B[1;33m\u001B[0m\u001B[1;33m\u001B[0m\u001B[1;33m\u001B[0m\u001B[0m\n\u001B[1;32m--> 133\u001B[1;33m         raw_predictions[:, k] += learning_rate * tree.value[:, 0, 0].take(\n\u001B[0m\u001B[0;32m    134\u001B[0m             \u001B[0mterminal_regions\u001B[0m\u001B[1;33m,\u001B[0m \u001B[0maxis\u001B[0m\u001B[1;33m=\u001B[0m\u001B[1;36m0\u001B[0m\u001B[1;33m\u001B[0m\u001B[1;33m\u001B[0m\u001B[0m\n\u001B[0;32m    135\u001B[0m         )\n",
      "\u001B[1;31mKeyboardInterrupt\u001B[0m: "
     ]
    }
   ],
   "source": [
    "n_estimators = [1, 2, 3, 5, 10, 20, 50, 100]\n",
    "n_estimators_res = []\n",
    "for n in n_estimators:\n",
    "    print(n)\n",
    "    gbc = GradientBoostingClassifier(random_state=0, n_estimators=n)\n",
    "    res = my_cross_validation(gbc, train[features], train[\"TARGET\"], 3)\n",
    "    n_estimators_res.append(res[0])"
   ],
   "metadata": {
    "collapsed": false,
    "pycharm": {
     "name": "#%%\n"
    }
   }
  },
  {
   "cell_type": "code",
   "execution_count": 62,
   "outputs": [
    {
     "data": {
      "text/plain": "[0.6843384802357195,\n 0.6918747108780594,\n 0.6976692560514431,\n 0.7019875357383786,\n 0.7121822770793559,\n 0.7216826677147529,\n 0.7298147184916036,\n 0.733161624663289]"
     },
     "execution_count": 62,
     "metadata": {},
     "output_type": "execute_result"
    }
   ],
   "source": [
    "n_estimators_res"
   ],
   "metadata": {
    "collapsed": false,
    "pycharm": {
     "name": "#%%\n"
    }
   }
  },
  {
   "cell_type": "code",
   "execution_count": 63,
   "outputs": [
    {
     "data": {
      "text/plain": "[<matplotlib.lines.Line2D at 0x26894901b50>]"
     },
     "execution_count": 63,
     "metadata": {},
     "output_type": "execute_result"
    },
    {
     "data": {
      "text/plain": "<Figure size 432x288 with 1 Axes>",
      "image/png": "[encoded data removed]"
     },
     "metadata": {
      "needs_background": "light"
     },
     "output_type": "display_data"
    }
   ],
   "source": [
    "plt.plot(n_estimators, n_estimators_res)"
   ],
   "metadata": {
    "collapsed": false,
    "pycharm": {
     "name": "#%%\n"
    }
   }
  },
  {
   "cell_type": "code",
   "execution_count": 64,
   "outputs": [
    {
     "name": "stdout",
     "output_type": "stream",
     "text": [
      "1\n",
      "0.6934406247495692\n",
      "0.6951593556061912\n",
      "0.6858552557117273\n",
      "0.6879401053237924\n",
      "0.6914729651290694\n",
      "2\n",
      "0.7020969214406025\n",
      "0.7049907529511236\n",
      "0.6953277490599865\n",
      "0.7010172736666799\n",
      "0.6999537587025021\n",
      "3\n",
      "0.712354171990405\n",
      "0.7158195967103809\n",
      "0.708712043719189\n",
      "0.7107866763891681\n",
      "0.7143725574892569\n",
      "4\n",
      "0.7188003852289768\n",
      "0.7212511409792427\n",
      "0.7155754914401145\n",
      "0.7182649423451447\n",
      "0.7195992202298556\n",
      "5\n",
      "0.7224079345359442\n",
      "0.7244357207399584\n",
      "0.7192575195743909\n",
      "0.723212450952377\n",
      "0.7243400990316826\n",
      "10\n",
      "0.7248840091650958\n",
      "0.7269254576300943\n",
      "0.7239749115224852\n",
      "0.7276632818778039\n",
      "0.7281750365671498\n",
      "15\n",
      "0.6998381844133741\n",
      "0.706121334840693\n",
      "0.7040732454587426\n",
      "0.7043483216346755\n",
      "0.7020249094494141\n",
      "20\n",
      "0.6561825709303745\n",
      "0.6647970640296259\n",
      "0.660187115048602\n",
      "0.6626200359313071\n",
      "0.6555300128443349\n"
     ]
    }
   ],
   "source": [
    "max_depthes = [1, 2, 3, 4, 5, 10, 15, 20]\n",
    "max_depthes_res = []\n",
    "for d in max_depthes:\n",
    "    print(d)\n",
    "    gbc = GradientBoostingClassifier(random_state=0, n_estimators=10, max_depth=d)\n",
    "    res = my_cross_validation(gbc, train[features], train[\"TARGET\"], 5)\n",
    "    max_depthes_res.append(res[0])"
   ],
   "metadata": {
    "collapsed": false,
    "pycharm": {
     "name": "#%%\n"
    }
   }
  },
  {
   "cell_type": "code",
   "execution_count": 65,
   "outputs": [
    {
     "data": {
      "text/plain": "[0.6907736613040699,\n 0.7006772911641789,\n 0.71240900925968,\n 0.7186982360446669,\n 0.7227307449668706,\n 0.7263245393525258,\n 0.7032811991593799,\n 0.6598633597568488]"
     },
     "execution_count": 65,
     "metadata": {},
     "output_type": "execute_result"
    }
   ],
   "source": [
    "max_depthes_res"
   ],
   "metadata": {
    "collapsed": false,
    "pycharm": {
     "name": "#%%\n"
    }
   }
  },
  {
   "cell_type": "code",
   "execution_count": 66,
   "outputs": [
    {
     "data": {
      "text/plain": "[<matplotlib.lines.Line2D at 0x268913621c0>]"
     },
     "execution_count": 66,
     "metadata": {},
     "output_type": "execute_result"
    },
    {
     "data": {
      "text/plain": "<Figure size 432x288 with 1 Axes>",
      "image/png": "[encoded data removed]"
     },
     "metadata": {
      "needs_background": "light"
     },
     "output_type": "display_data"
    }
   ],
   "source": [
    "plt.plot(max_depthes, max_depthes_res)"
   ],
   "metadata": {
    "collapsed": false,
    "pycharm": {
     "name": "#%%\n"
    }
   }
  },
  {
   "cell_type": "code",
   "execution_count": 67,
   "outputs": [
    {
     "name": "stdout",
     "output_type": "stream",
     "text": [
      "1\n",
      "0.712354171990405\n",
      "0.7158195967103809\n",
      "0.708712043719189\n",
      "0.7107866763891681\n",
      "0.7143725574892569\n",
      "10\n",
      "0.712354171990405\n",
      "0.7158195967103809\n",
      "0.708712043719189\n",
      "0.7107866763891681\n",
      "0.7143725574892569\n",
      "100\n",
      "0.7123431875759838\n",
      "0.7159002066002805\n",
      "0.708712043719189\n",
      "0.7107866763891681\n",
      "0.7143725574892569\n",
      "1000\n",
      "0.712383051074\n",
      "0.7160425153229895\n",
      "0.7087157488196709\n",
      "0.7113679875213844\n",
      "0.7143713182535089\n",
      "10000\n",
      "0.7118304361288844\n",
      "0.7140789592450636\n",
      "0.7076452879877441\n",
      "0.7110060757131031\n",
      "0.7124431714337933\n",
      "100000\n",
      "0.6388686885794523\n",
      "0.6464105792813633\n",
      "0.6422804729744063\n",
      "0.6428034508042295\n",
      "0.6385954015504585\n"
     ]
    }
   ],
   "source": [
    "min_samples_leafs = [1, 10, 100, 1000, 10000, 20000]\n",
    "min_samples_leafs_res = []\n",
    "for l in min_samples_leafs:\n",
    "    print(l)\n",
    "    gbc = GradientBoostingClassifier(random_state=0, n_estimators=10, min_samples_leaf=l)\n",
    "    res = my_cross_validation(gbc, train[features], train[\"TARGET\"], 5)\n",
    "    min_samples_leafs_res.append(res[0])"
   ],
   "metadata": {
    "collapsed": false,
    "pycharm": {
     "name": "#%%\n"
    }
   }
  },
  {
   "cell_type": "code",
   "execution_count": 68,
   "outputs": [
    {
     "data": {
      "text/plain": "[0.71240900925968,\n 0.71240900925968,\n 0.7124229343547757,\n 0.7125761241983107,\n 0.7114007861017178,\n 0.6417917186379819]"
     },
     "execution_count": 68,
     "metadata": {},
     "output_type": "execute_result"
    }
   ],
   "source": [
    "min_samples_leafs_res"
   ],
   "metadata": {
    "collapsed": false,
    "pycharm": {
     "name": "#%%\n"
    }
   }
  },
  {
   "cell_type": "code",
   "execution_count": 69,
   "outputs": [
    {
     "data": {
      "text/plain": "[<matplotlib.lines.Line2D at 0x26894820df0>]"
     },
     "execution_count": 69,
     "metadata": {},
     "output_type": "execute_result"
    },
    {
     "data": {
      "text/plain": "<Figure size 432x288 with 1 Axes>",
      "image/png": "[encoded data removed]"
     },
     "metadata": {
      "needs_background": "light"
     },
     "output_type": "display_data"
    }
   ],
   "source": [
    "plt.plot(min_samples_leafs, min_samples_leafs_res)"
   ],
   "metadata": {
    "collapsed": false,
    "pycharm": {
     "name": "#%%\n"
    }
   }
  },
  {
   "cell_type": "code",
   "execution_count": 70,
   "outputs": [
    {
     "name": "stdout",
     "output_type": "stream",
     "text": [
      "squared_error\n",
      "0.712354171990405\n",
      "0.7158195967103809\n",
      "0.708712043719189\n",
      "0.7107866763891681\n",
      "0.7143725574892569\n",
      "absolute_error\n",
      "0.5\n",
      "0.5\n",
      "0.5\n",
      "0.5\n",
      "0.5\n",
      "huber\n",
      "0.5\n",
      "0.5\n",
      "0.5\n",
      "0.5\n",
      "0.5\n",
      "quantile\n",
      "0.6462106042758714\n",
      "0.6406458563443456\n",
      "0.6345783965805731\n",
      "0.6390012838328977\n",
      "0.6432815547850081\n"
     ]
    }
   ],
   "source": [
    "losses = [\"squared_error\", \"absolute_error\", \"huber\", \"quantile\"]\n",
    "losses_res = []\n",
    "for l in losses:\n",
    "    print(l)\n",
    "    gbc = GradientBoostingClassifier(random_state=0, n_estimators=10, loss=l)\n",
    "    res = my_cross_validation(gbc, train[features], train[\"TARGET\"], 5)\n",
    "    losses_res.append(res[0])"
   ],
   "metadata": {
    "collapsed": false,
    "pycharm": {
     "name": "#%%\n"
    }
   }
  },
  {
   "cell_type": "code",
   "execution_count": 71,
   "outputs": [
    {
     "data": {
      "text/plain": "[0.71240900925968, 0.5, 0.5, 0.6407435391637392]"
     },
     "execution_count": 71,
     "metadata": {},
     "output_type": "execute_result"
    }
   ],
   "source": [
    "losses_res"
   ],
   "metadata": {
    "collapsed": false,
    "pycharm": {
     "name": "#%%\n"
    }
   }
  },
  {
   "cell_type": "code",
   "execution_count": 72,
   "outputs": [
    {
     "data": {
      "text/plain": "<Figure size 432x288 with 1 Axes>",
      "image/png": "[encoded data removed]"
     },
     "metadata": {
      "needs_background": "light"
     },
     "output_type": "display_data"
    }
   ],
   "source": [
    "fig, ax = plt.subplots()\n",
    "ax.scatter([1, 2, 3, 4], losses_res)\n",
    "plt.title(\"losses\")\n",
    "for i, txt in enumerate(losses):\n",
    "    ax.annotate(txt, ([1, 2, 3, 4][i], losses_res[i]))"
   ],
   "metadata": {
    "collapsed": false,
    "pycharm": {
     "name": "#%%\n"
    }
   }
  },
  {
   "cell_type": "markdown",
   "source": [
    "Параметр n_estimators не влияет на переобучение, так как на большем количестве моделей результат просто перестает меняться, оставаясь максимально возможным в данной конфигурации\n",
    "\n",
    "Из-за параметра max_depth начинается переобучение на значении 10-15, так как модель становится слишком сложной\n",
    "\n",
    "Параметр min_samples_leaf на больших значениях наоборот оставляет модель недообученной\n",
    "\n",
    "Параметр loss не связан с переобучением, просто для данной задачи лучше всего подходит squared_error\n"
   ],
   "metadata": {
    "collapsed": false,
    "pycharm": {
     "name": "#%% md\n"
    }
   }
  },
  {
   "cell_type": "markdown",
   "source": [
    "# Task 1"
   ],
   "metadata": {
    "collapsed": false,
    "pycharm": {
     "name": "#%% md\n"
    }
   }
  },
  {
   "cell_type": "code",
   "execution_count": 14,
   "outputs": [
    {
     "data": {
      "text/plain": "GridSearchCV(estimator=GradientBoostingClassifier(),\n             param_grid={'max_depth': [8], 'min_samples_leaf': [1, 100, 10000],\n                         'n_estimators': [10]})"
     },
     "execution_count": 14,
     "metadata": {},
     "output_type": "execute_result"
    }
   ],
   "source": [
    "# уменьшил списки для быстроты\n",
    "params = {\n",
    "    \"n_estimators\": [100],\n",
    "    \"max_depth\": [8, 10, 12],\n",
    "    \"min_samples_leaf\": [1]\n",
    "    #\"loss\": [\"squared_error\", \"absolute_error\", \"huber\", \"quantile\"]\n",
    "}\n",
    "\n",
    "gbc = GradientBoostingClassifier()\n",
    "gscv = GridSearchCV(gbc, params, verbose=True)\n",
    "gscv.fit(train[features], train[\"TARGET\"])"
   ],
   "metadata": {
    "collapsed": false,
    "pycharm": {
     "name": "#%%\n"
    }
   }
  },
  {
   "cell_type": "code",
   "execution_count": 15,
   "outputs": [
    {
     "data": {
      "text/plain": "{'max_depth': 8, 'min_samples_leaf': 1, 'n_estimators': 10}"
     },
     "execution_count": 15,
     "metadata": {},
     "output_type": "execute_result"
    }
   ],
   "source": [
    "gscv.best_params_"
   ],
   "metadata": {
    "collapsed": false,
    "pycharm": {
     "name": "#%%\n"
    }
   }
  },
  {
   "cell_type": "code",
   "execution_count": 38,
   "outputs": [
    {
     "data": {
      "text/plain": "['DAYS_BIRTH',\n 'REGION_RATING_CLIENT_W_CITY',\n 'DAYS_LAST_PHONE_CHANGE',\n 'EXT_SOURCE_1',\n 'EXT_SOURCE_2',\n 'EXT_SOURCE_3',\n 'CODE_GENDER',\n 'NAME_CONTRACT_TYPE',\n 'EMERGENCYSTATE_MODE']"
     },
     "execution_count": 38,
     "metadata": {},
     "output_type": "execute_result"
    }
   ],
   "source": [
    "features"
   ],
   "metadata": {
    "collapsed": false,
    "pycharm": {
     "name": "#%%\n"
    }
   }
  },
  {
   "cell_type": "code",
   "execution_count": 39,
   "outputs": [
    {
     "data": {
      "text/plain": "array([0.0738615 , 0.00875884, 0.03114703, 0.12177108, 0.35653907,\n       0.36973   , 0.02792801, 0.01026447, 0.        ])"
     },
     "execution_count": 39,
     "metadata": {},
     "output_type": "execute_result"
    }
   ],
   "source": [
    "gscv.best_estimator_.feature_importances_"
   ],
   "metadata": {
    "collapsed": false,
    "pycharm": {
     "name": "#%%\n"
    }
   }
  },
  {
   "cell_type": "code",
   "execution_count": null,
   "outputs": [],
   "source": [
    "my_cross_validation(gscv.best_estimator_, train[features], train[\"TARGET\"], 5)"
   ],
   "metadata": {
    "collapsed": false,
    "pycharm": {
     "name": "#%%\n",
     "is_executing": true
    }
   }
  },
  {
   "cell_type": "code",
   "execution_count": 34,
   "outputs": [
    {
     "name": "stderr",
     "output_type": "stream",
     "text": [
      "C:\\Users\\Valeriy\\AppData\\Roaming\\Python\\Python38\\site-packages\\sklearn\\model_selection\\_search.py:292: UserWarning: The total space of parameters 3 is smaller than n_iter=10. Running 3 iterations. For exhaustive searches, use GridSearchCV.\n",
      "  warnings.warn(\n"
     ]
    },
    {
     "data": {
      "text/plain": "RandomizedSearchCV(estimator=GradientBoostingClassifier(),\n                   param_distributions={'max_depth': [8],\n                                        'min_samples_leaf': [1, 100, 10000],\n                                        'n_estimators': [10]})"
     },
     "execution_count": 34,
     "metadata": {},
     "output_type": "execute_result"
    }
   ],
   "source": [
    "rscv = RandomizedSearchCV(gbc, params)\n",
    "rscv.fit(train[features], train[\"TARGET\"])"
   ],
   "metadata": {
    "collapsed": false,
    "pycharm": {
     "name": "#%%\n"
    }
   }
  },
  {
   "cell_type": "code",
   "execution_count": 35,
   "outputs": [
    {
     "data": {
      "text/plain": "{'n_estimators': 10, 'min_samples_leaf': 1, 'max_depth': 8}"
     },
     "execution_count": 35,
     "metadata": {},
     "output_type": "execute_result"
    }
   ],
   "source": [
    "rscv.best_params_"
   ],
   "metadata": {
    "collapsed": false,
    "pycharm": {
     "name": "#%%\n"
    }
   }
  },
  {
   "cell_type": "code",
   "execution_count": 36,
   "outputs": [
    {
     "data": {
      "text/plain": "array([0.0753405 , 0.00876786, 0.03266402, 0.12063792, 0.35642383,\n       0.36800477, 0.02784039, 0.01032072, 0.        ])"
     },
     "execution_count": 36,
     "metadata": {},
     "output_type": "execute_result"
    }
   ],
   "source": [
    "rscv.best_estimator_.feature_importances_"
   ],
   "metadata": {
    "collapsed": false,
    "pycharm": {
     "name": "#%%\n"
    }
   }
  },
  {
   "cell_type": "markdown",
   "source": [
    "# Task 2"
   ],
   "metadata": {
    "collapsed": false,
    "pycharm": {
     "name": "#%% md\n"
    }
   }
  },
  {
   "cell_type": "code",
   "execution_count": 23,
   "outputs": [
    {
     "data": {
      "text/plain": "<Figure size 432x288 with 1 Axes>",
      "image/png": "[encoded data removed]"
     },
     "metadata": {
      "needs_background": "light"
     },
     "output_type": "display_data"
    }
   ],
   "source": [
    "fig, ax = plt.subplots()\n",
    "ax.scatter(range(1, len(features)+1), gscv.best_estimator_.feature_importances_)\n",
    "plt.title(\"feature importances\")\n",
    "for i, txt in enumerate(features):\n",
    "    ax.annotate(txt, (i + 1, gscv.best_estimator_.feature_importances_[i]))"
   ],
   "metadata": {
    "collapsed": false,
    "pycharm": {
     "name": "#%%\n"
    }
   }
  },
  {
   "cell_type": "code",
   "execution_count": 37,
   "outputs": [
    {
     "data": {
      "text/plain": "<Figure size 432x288 with 1 Axes>",
      "image/png": "[encoded data removed]"
     },
     "metadata": {
      "needs_background": "light"
     },
     "output_type": "display_data"
    }
   ],
   "source": [
    "fig, ax = plt.subplots()\n",
    "ax.scatter(range(1, len(features)+1), rscv.best_estimator_.feature_importances_)\n",
    "plt.title(\"feature importances\")\n",
    "for i, txt in enumerate(features):\n",
    "    ax.annotate(txt, (i + 1, rscv.best_estimator_.feature_importances_[i]))"
   ],
   "metadata": {
    "collapsed": false,
    "pycharm": {
     "name": "#%%\n"
    }
   }
  },
  {
   "cell_type": "markdown",
   "source": [
    "EXT_SOURCE_3 и EXT_SOURCE_2 самые важные"
   ],
   "metadata": {
    "collapsed": false,
    "pycharm": {
     "name": "#%% md\n"
    }
   }
  },
  {
   "cell_type": "markdown",
   "source": [
    "# Stacking\n",
    "# Task 1"
   ],
   "metadata": {
    "collapsed": false,
    "pycharm": {
     "name": "#%% md\n",
     "is_executing": true
    }
   }
  },
  {
   "cell_type": "code",
   "execution_count": 40,
   "outputs": [
    {
     "name": "stdout",
     "output_type": "stream",
     "text": [
      "0.7278210141743012\n",
      "0.7313680972635122\n",
      "0.7263563843768932\n",
      "0.728894204518151\n"
     ]
    },
    {
     "data": {
      "text/plain": "(0.7286099250832145, 0.001829559695018529)"
     },
     "execution_count": 40,
     "metadata": {},
     "output_type": "execute_result"
    }
   ],
   "source": [
    "gbc1 = GradientBoostingClassifier(n_estimators=10, max_depth=5)\n",
    "gbc2 = GradientBoostingClassifier(n_estimators=2, max_depth=2)\n",
    "rfc1 = RandomForestClassifier(n_estimators=2)\n",
    "rfc2 = RandomForestClassifier(n_estimators=5, min_samples_leaf=1000)\n",
    "lr = LogisticRegression()\n",
    "\n",
    "estimators = [(\"gbc1\", gbc1), (\"gbc2\", gbc2), (\"rfc1\", rfc1), (\"rfc2\", rfc2), (\"lr\", lr)]\n",
    "sc = StackingClassifier(estimators=estimators)\n",
    "my_cross_validation(sc, train[features], train[\"TARGET\"], 4)\n"
   ],
   "metadata": {
    "collapsed": false,
    "pycharm": {
     "name": "#%%\n"
    }
   }
  },
  {
   "cell_type": "code",
   "execution_count": 41,
   "outputs": [],
   "source": [
    "sc.fit(train[features], train[\"TARGET\"])\n",
    "y_pred = sc.predict_proba(test[features])[:,1]\n",
    "submission['TARGET'] = y_pred\n",
    "submission.to_csv('predict1.csv', index = False)"
   ],
   "metadata": {
    "collapsed": false,
    "pycharm": {
     "name": "#%%\n"
    }
   }
  },
  {
   "cell_type": "markdown",
   "source": [
    "cv roc-auc mean/std 0.7286099250832145, 0.001829559695018529\n",
    "\n",
    "lb private/public 0.71068 0.72221"
   ],
   "metadata": {
    "collapsed": false,
    "pycharm": {
     "name": "#%% md\n"
    }
   }
  },
  {
   "cell_type": "markdown",
   "source": [
    "# Task 2"
   ],
   "metadata": {
    "collapsed": false,
    "pycharm": {
     "name": "#%% md\n"
    }
   }
  },
  {
   "cell_type": "code",
   "execution_count": 42,
   "outputs": [
    {
     "name": "stdout",
     "output_type": "stream",
     "text": [
      "0.7274230353253577\n",
      "0.7290525646008336\n",
      "0.7273276386534016\n",
      "0.7297420963956581\n"
     ]
    },
    {
     "data": {
      "text/plain": "(0.7283863337438127, 0.0010405209104631557)"
     },
     "execution_count": 42,
     "metadata": {},
     "output_type": "execute_result"
    }
   ],
   "source": [
    "gbc12 = GradientBoostingClassifier(n_estimators=10, max_depth=5)\n",
    "gbc22 = GradientBoostingClassifier(n_estimators=2, max_depth=2)\n",
    "rfc12 = RandomForestClassifier(n_estimators=2)\n",
    "rfc22 = RandomForestClassifier(n_estimators=5, min_samples_leaf=1000)\n",
    "lr2 = LogisticRegression()\n",
    "\n",
    "estimators2 = [(\"gbc22\", gbc22), (\"rfc12\", rfc12), (\"rfc22\", rfc22), (\"lr2\", lr2)]\n",
    "sc2 = StackingClassifier(estimators=estimators2)\n",
    "my_cross_validation(sc2, train[features], train[\"TARGET\"], 4)"
   ],
   "metadata": {
    "collapsed": false,
    "pycharm": {
     "name": "#%%\n"
    }
   }
  },
  {
   "cell_type": "code",
   "execution_count": 43,
   "outputs": [],
   "source": [
    "sc2.fit(train[features], train[\"TARGET\"])\n",
    "y_pred = sc2.predict_proba(test[features])[:,1]\n",
    "submission['TARGET'] = y_pred\n",
    "submission.to_csv('predict2.csv', index = False)"
   ],
   "metadata": {
    "collapsed": false,
    "pycharm": {
     "name": "#%%\n"
    }
   }
  },
  {
   "cell_type": "markdown",
   "source": [
    "cv roc-auc mean/std 0.7283863337438127, 0.0010405209104631557\n",
    "\n",
    "lb private/public 0.71009 0.71911"
   ],
   "metadata": {
    "collapsed": false
   }
  },
  {
   "cell_type": "markdown",
   "source": [
    "Результат немного ухудшился, но не сильно, так как модели отличаются тоже не сильно\n"
   ],
   "metadata": {
    "collapsed": false,
    "pycharm": {
     "name": "#%% md\n"
    }
   }
  }
 ],
 "metadata": {
  "kernelspec": {
   "display_name": "Python 3",
   "language": "python",
   "name": "python3"
  },
  "language_info": {
   "codemirror_mode": {
    "name": "ipython",
    "version": 2
   },
   "file_extension": ".py",
   "mimetype": "text/x-python",
   "name": "python",
   "nbconvert_exporter": "python",
   "pygments_lexer": "ipython2",
   "version": "2.7.6"
  }
 },
 "nbformat": 4,
 "nbformat_minor": 0
}